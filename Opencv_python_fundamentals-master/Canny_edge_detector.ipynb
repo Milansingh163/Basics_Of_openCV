{
 "cells": [
  {
   "cell_type": "markdown",
   "metadata": {},
   "source": [
    "Canny Edge Detection\n",
    "\n",
    "please read short document ,more info, https://docs.opencv.org/3.3.1/da/d22/tutorial_py_canny.html"
   ]
  },
  {
   "cell_type": "code",
   "execution_count": 12,
   "metadata": {},
   "outputs": [],
   "source": [
    "import cv2"
   ]
  },
  {
   "cell_type": "code",
   "execution_count": 1,
   "metadata": {},
   "outputs": [],
   "source": [
    "#only for TrackBar process\n",
    "def nothing(x):\n",
    "    pass"
   ]
  },
  {
   "cell_type": "code",
   "execution_count": 16,
   "metadata": {},
   "outputs": [],
   "source": [
    "image = cv2.imread('data/horse.jpg')\n",
    "cv2.imshow('image',image)\n",
    "cv2.waitKey(0)\n",
    "cv2.destroyAllWindows()"
   ]
  },
  {
   "cell_type": "markdown",
   "metadata": {},
   "source": [
    "# canny edage detection for image"
   ]
  },
  {
   "cell_type": "code",
   "execution_count": 19,
   "metadata": {},
   "outputs": [],
   "source": [
    "\n",
    "switch = '0 : OFF \\n1 : ON'\n",
    "cv2.namedWindow('canny')\n",
    " \n",
    "# add lower and upper threshold slidebars to \"canny\"\n",
    "cv2.createTrackbar('lower', 'canny', 0, 255, nothing)\n",
    "cv2.createTrackbar('upper', 'canny', 0, 255, nothing)\n",
    "\n",
    "# Infinite loop until we hit the escape key on keyboard\n",
    "while(1):\n",
    "\n",
    "    # get current positions of four trackbars\n",
    "    lower = cv2.getTrackbarPos('lower', 'canny')\n",
    "    upper = cv2.getTrackbarPos('upper', 'canny')\n",
    "    s = cv2.getTrackbarPos(switch, 'canny')\n",
    "    \n",
    "    \n",
    "    if s == 0:\n",
    "        edges = image\n",
    "    else:\n",
    "        edges = cv2.Canny(image, lower, upper)\n",
    "\n",
    "    # display images\n",
    "    cv2.imshow('canny', edges)\n",
    "    k = cv2.waitKey(1) & 0xFF\n",
    "    if k == 27:   # hit escape to quit\n",
    "        break\n",
    "cv2.destroyAllWindows()\n"
   ]
  },
  {
   "cell_type": "markdown",
   "metadata": {},
   "source": [
    "# canny edage detection for webcom"
   ]
  },
  {
   "cell_type": "code",
   "execution_count": 27,
   "metadata": {},
   "outputs": [],
   "source": [
    "import cv2\n",
    "cap=cv2.VideoCapture(0)# capturing vedio from the camra\n",
    "\n",
    "cv2.namedWindow('canny')\n",
    "\n",
    "\n",
    "# add lower and upper threshold slidebars\n",
    "cv2.createTrackbar('lower', 'canny', 0, 255, nothing)\n",
    "cv2.createTrackbar('upper', 'canny', 0, 255, nothing)\n",
    "\n",
    "while(cap.isOpened()):\n",
    "    ret, frame=cap.read()\n",
    "    \n",
    "    if (ret==True):\n",
    "        lower = cv2.getTrackbarPos('lower', 'canny')\n",
    "        upper = cv2.getTrackbarPos('upper', 'canny')\n",
    "        gray=cv2.cvtColor(frame,cv2.COLOR_BGR2GRAY)\n",
    "        edges = cv2.Canny(frame, lower, upper)\n",
    "\n",
    "        # display images\n",
    "        cv2.imshow('canny', edges)\n",
    "        k = cv2.waitKey(1) & 0xFF\n",
    "        if k == 27:   # hit escape to quit\n",
    "            break\n",
    "    else:\n",
    "        break\n",
    "# relese all the caps and distroy windows        \n",
    "cap.release()\n",
    "cv2.destroyAllWindows()\n"
   ]
  },
  {
   "cell_type": "markdown",
   "metadata": {},
   "source": [
    "# capture video from the camra and write in the disk"
   ]
  },
  {
   "cell_type": "code",
   "execution_count": 1,
   "metadata": {},
   "outputs": [],
   "source": [
    "import cv2\n",
    "cap=cv2.VideoCapture(0)# capturing vedio from the camra\n",
    "\n",
    "\n",
    "cv2.namedWindow('canny')\n",
    "\n",
    "\n",
    "fourcc = cv2.VideoWriter_fourcc(*'XVID') #The fourcc is used to mention the video codec for encoding the video\n",
    "#The VideoWriter() accepts four parameters.These are as follows:\n",
    "    # 1) The output file name along with the format in which you want to save the file\n",
    "    # 2) The video codec or fourcc.\n",
    "    # 3) Frames per second which is used to mention how fast or slow your video should play along with the frame size that is the size of the window\n",
    "    # 4) isColor flag. If it is True, encoder expect color frame, otherwise it works with grayscale frame.\n",
    "out = cv2.VideoWriter('C:/Users/DarkLord/Downloads/output1.avi',fourcc, 20.0, (int(cap.get(3)),(int(cap.get(4)))),False)\n",
    "\n",
    "while(cap.isOpened()):\n",
    "    ret, frame=cap.read()\n",
    "    \n",
    "    if (ret==True):\n",
    "        #lower = cv2.getTrackbarPos('lower', 'canny')\n",
    "        #upper = cv2.getTrackbarPos('upper', 'canny')\n",
    "        gray=cv2.cvtColor(frame,cv2.COLOR_BGR2GRAY)\n",
    "        edges = cv2.Canny(frame, 75, 75)\n",
    "\n",
    "        out.write(edges)# write frames in the disk\n",
    "        # display images\n",
    "        cv2.imshow('canny', edges)\n",
    "        k = cv2.waitKey(1) & 0xFF\n",
    "        if k == 27:   # hit escape to quit\n",
    "            break\n",
    "    else:\n",
    "        break\n",
    "# relese all the caps , out and distroy window        \n",
    "cap.release()\n",
    "out.release()\n",
    "cv2.destroyAllWindows()\n"
   ]
  },
  {
   "cell_type": "markdown",
   "metadata": {},
   "source": [
    "# Take input of a vedio and convert it in Canny edges after it write in the disk "
   ]
  },
  {
   "cell_type": "code",
   "execution_count": 2,
   "metadata": {},
   "outputs": [],
   "source": [
    "import cv2\n",
    "cap=cv2.VideoCapture('data/ai.mp4')# taking input from computer\n",
    "\n",
    "\n",
    "cv2.namedWindow('canny')\n",
    "\n",
    "\n",
    "fourcc = cv2.VideoWriter_fourcc(*'XVID') #The fourcc is used to mention the video codec for encoding the video\n",
    "#The VideoWriter() accepts four parameters.These are as follows:\n",
    "    # 1) The output file name along with the format in which you want to save the file\n",
    "    # 2) The video codec or fourcc.\n",
    "    # 3) Frames per second which is used to mention how fast or slow your video should play along with the frame size that is the size of the window\n",
    "    # 4) isColor flag. If it is True, encoder expect color frame, otherwise it works with grayscale frame.\n",
    "out = cv2.VideoWriter('C:/Users/DarkLord/Downloads/output1.avi',fourcc, 20.0, (int(cap.get(3)),(int(cap.get(4)))),False)\n",
    "\n",
    "while(cap.isOpened()):\n",
    "    ret, frame=cap.read()\n",
    "    \n",
    "    if (ret==True):\n",
    "        #lower = cv2.getTrackbarPos('lower', 'canny')\n",
    "        #upper = cv2.getTrackbarPos('upper', 'canny')\n",
    "        gray=cv2.cvtColor(frame,cv2.COLOR_BGR2GRAY)\n",
    "        edges = cv2.Canny(frame, 75, 75)\n",
    "\n",
    "        out.write(edges)# write frames in the disk\n",
    "        # display images\n",
    "        cv2.imshow('canny', edges)\n",
    "        k = cv2.waitKey(1) & 0xFF\n",
    "        if k == 27:   # hit escape to quit\n",
    "            break\n",
    "    else:\n",
    "        break\n",
    "# relese all the caps , out and distroy window        \n",
    "cap.release()\n",
    "out.release()\n",
    "cv2.destroyAllWindows()\n"
   ]
  },
  {
   "cell_type": "code",
   "execution_count": null,
   "metadata": {},
   "outputs": [],
   "source": []
  }
 ],
 "metadata": {
  "kernelspec": {
   "display_name": "Python 3",
   "language": "python",
   "name": "python3"
  },
  "language_info": {
   "codemirror_mode": {
    "name": "ipython",
    "version": 3
   },
   "file_extension": ".py",
   "mimetype": "text/x-python",
   "name": "python",
   "nbconvert_exporter": "python",
   "pygments_lexer": "ipython3",
   "version": "3.6.3"
  }
 },
 "nbformat": 4,
 "nbformat_minor": 2
}
